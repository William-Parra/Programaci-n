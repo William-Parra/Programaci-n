{
  "nbformat": 4,
  "nbformat_minor": 0,
  "metadata": {
    "kernelspec": {
      "display_name": "Python 3",
      "language": "python",
      "name": "python3"
    },
    "language_info": {
      "codemirror_mode": {
        "name": "ipython",
        "version": 3
      },
      "file_extension": ".py",
      "mimetype": "text/x-python",
      "name": "python",
      "nbconvert_exporter": "python",
      "pygments_lexer": "ipython3",
      "version": "3.7.1"
    },
    "colab": {
      "name": "Ejercicio 4.ipynb",
      "provenance": [],
      "collapsed_sections": [],
      "include_colab_link": true
    }
  },
  "cells": [
    {
      "cell_type": "markdown",
      "metadata": {
        "id": "view-in-github",
        "colab_type": "text"
      },
      "source": [
        "<a href=\"https://colab.research.google.com/github/William-Parra/Programaci-n/blob/William-Parra-patch-1/Ejercicio_4.ipynb\" target=\"_parent\"><img src=\"https://colab.research.google.com/assets/colab-badge.svg\" alt=\"Open In Colab\"/></a>"
      ]
    },
    {
      "cell_type": "markdown",
      "metadata": {
        "id": "oyf1C0Ax6_iH"
      },
      "source": [
        "## Ejercicio 4\n",
        "Un trabajador trabaja \"X\" horas diarias, si la hora tiene un costo de $5.000,¿cuanto gana en el dia?"
      ]
    },
    {
      "cell_type": "code",
      "metadata": {
        "id": "a6DBYuMImX9r",
        "colab": {
          "base_uri": "https://localhost:8080/"
        },
        "outputId": "011be696-2b1c-4879-be21-aff94e005020"
      },
      "source": [
        "X = float(input(\"Ingrese las horas que trabajo: \"))\r\n",
        "Y = (X * 5000)\r\n",
        "print(\"En el dia gano: \", Y)"
      ],
      "execution_count": 2,
      "outputs": [
        {
          "output_type": "stream",
          "text": [
            "Ingrese las horas que trabajo: 8\n",
            "en el dia gano:  40000.0\n"
          ],
          "name": "stdout"
        }
      ]
    },
    {
      "cell_type": "markdown",
      "metadata": {
        "id": "sZQOTPvj6_iU"
      },
      "source": [
        "## Solución"
      ]
    }
  ]
}