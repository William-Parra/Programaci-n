{
  "nbformat": 4,
  "nbformat_minor": 0,
  "metadata": {
    "kernelspec": {
      "display_name": "Python 3",
      "language": "python",
      "name": "python3"
    },
    "language_info": {
      "codemirror_mode": {
        "name": "ipython",
        "version": 3
      },
      "file_extension": ".py",
      "mimetype": "text/x-python",
      "name": "python",
      "nbconvert_exporter": "python",
      "pygments_lexer": "ipython3",
      "version": "3.7.1"
    },
    "colab": {
      "name": "Ejercicio 6.ipynb",
      "provenance": [],
      "collapsed_sections": []
    }
  },
  "cells": [
    {
      "cell_type": "markdown",
      "metadata": {
        "id": "oyf1C0Ax6_iH"
      },
      "source": [
        "## Ejercicio 6\n",
        "\n",
        "Ingrese dos números, mostrar en pantalla cual es el mayor."
      ]
    },
    {
      "cell_type": "code",
      "metadata": {
        "id": "a6DBYuMImX9r",
        "colab": {
          "base_uri": "https://localhost:8080/"
        },
        "outputId": "c44ba3ee-9dca-429c-f84a-136da73fd3fc"
      },
      "source": [
        "a = int(input(\"ingrese el numero A \"))\r\n",
        "b = int(input(\"Ingrese el numero B \"))\r\n",
        " \r\n",
        "if( a>b ):\r\n",
        "    print(\"A=\",a,\" es mayor que B=\",b)\r\n",
        "else:\r\n",
        "    print(\"B=\",b,\" es mayor que A=\",a)"
      ],
      "execution_count": 5,
      "outputs": [
        {
          "output_type": "stream",
          "text": [
            "ingrese el numero A 5\n",
            "Ingrese el numero B 8\n",
            "B= 8  es mayor que A= 5\n"
          ],
          "name": "stdout"
        }
      ]
    }
  ]
}