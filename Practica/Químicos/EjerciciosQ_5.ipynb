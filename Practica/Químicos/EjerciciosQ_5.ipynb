{
  "nbformat": 4,
  "nbformat_minor": 0,
  "metadata": {
    "kernelspec": {
      "display_name": "Python 3",
      "language": "python",
      "name": "python3"
    },
    "language_info": {
      "codemirror_mode": {
        "name": "ipython",
        "version": 3
      },
      "file_extension": ".py",
      "mimetype": "text/x-python",
      "name": "python",
      "nbconvert_exporter": "python",
      "pygments_lexer": "ipython3",
      "version": "3.7.1"
    },
    "colab": {
      "name": "EjerciciosQ 5.ipynb",
      "provenance": [],
      "collapsed_sections": []
    }
  },
  "cells": [
    {
      "cell_type": "markdown",
      "metadata": {
        "id": "oyf1C0Ax6_iH"
      },
      "source": [
        "## Ejercicio 5\n",
        "\n",
        "Un cilindro de 20 litros contiene CH4 (g) en unas determinadas condiciones de presión y temperatura. Otro cilindro de 40 litros contiene 5,4 moles de CO2 (g) en las mismas condiciones. Calcular la cantidad de CH4 (g) en el primer recipiente y su masa expresada en gramos.\n",
        "\n",
        "\n",
        "\n",
        "\n",
        "\n"
      ]
    },
    {
      "cell_type": "code",
      "metadata": {
        "id": "45P82qJKrgbh"
      },
      "source": [
        ""
      ],
      "execution_count": null,
      "outputs": []
    }
  ]
}