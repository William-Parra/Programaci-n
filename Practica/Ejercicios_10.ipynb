{
  "nbformat": 4,
  "nbformat_minor": 0,
  "metadata": {
    "kernelspec": {
      "display_name": "Python 3",
      "language": "python",
      "name": "python3"
    },
    "language_info": {
      "codemirror_mode": {
        "name": "ipython",
        "version": 3
      },
      "file_extension": ".py",
      "mimetype": "text/x-python",
      "name": "python",
      "nbconvert_exporter": "python",
      "pygments_lexer": "ipython3",
      "version": "3.7.1"
    },
    "colab": {
      "name": "Ejercicios 10.ipynb",
      "provenance": [],
      "collapsed_sections": []
    }
  },
  "cells": [
    {
      "cell_type": "markdown",
      "metadata": {
        "id": "oyf1C0Ax6_iH"
      },
      "source": [
        "## Ejercicio 10\n",
        "\n",
        "Usar arreglos unidimensionales para resolver el siguiente problema. Leer varios números (en caso de una cantidad menor que cero mostrar el siguiente mensaje al usuario “cantidad invalida”) del 5 al 50. A medida que se lea cada número, validarlo (en caso de un número incorrecto mostrar el siguiente mensaje al usuario “número invalido”) y almacenarlo en un arreglo sólo si no es un duplicado de un número ya leído. Después de leer todos los números, mostrar en pantalla sólo los números no duplicados que el usuario introdujo.\n"
      ]
    },
    {
      "cell_type": "code",
      "metadata": {
        "id": "45P82qJKrgbh"
      },
      "source": [
        ""
      ],
      "execution_count": null,
      "outputs": []
    }
  ]
}