{
  "nbformat": 4,
  "nbformat_minor": 0,
  "metadata": {
    "kernelspec": {
      "display_name": "Python 3",
      "language": "python",
      "name": "python3"
    },
    "language_info": {
      "codemirror_mode": {
        "name": "ipython",
        "version": 3
      },
      "file_extension": ".py",
      "mimetype": "text/x-python",
      "name": "python",
      "nbconvert_exporter": "python",
      "pygments_lexer": "ipython3",
      "version": "3.7.1"
    },
    "colab": {
      "name": "EjerciciosE 4.ipynb",
      "provenance": [],
      "collapsed_sections": []
    }
  },
  "cells": [
    {
      "cell_type": "markdown",
      "metadata": {
        "id": "oyf1C0Ax6_iH"
      },
      "source": [
        "## Ejercicio 4\n",
        "\n",
        "La empresa de energía eléctrica Electric Green implementa el concurso Save the Planet, con el fin concientizar a las personas sobre el impacto positivo de hacer un uso racional y eficiente de la energía eléctrica en los hogares. El ganador será el usuario que durante un periodo de seis meses haya pagado menos dinero en el total de sus facturas. Asuma que los usuarios ingresan valores correctos de consumo y tome como referencia los valores se muestran en la tabla 1.  \n",
        "![image.png](data:image/png;base64,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)\n",
        "\n",
        "\n",
        "\n",
        "\n",
        "\n",
        "\n"
      ]
    },
    {
      "cell_type": "code",
      "metadata": {
        "id": "45P82qJKrgbh"
      },
      "source": [
        ""
      ],
      "execution_count": null,
      "outputs": []
    }
  ]
}