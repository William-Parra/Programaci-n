{
  "nbformat": 4,
  "nbformat_minor": 0,
  "metadata": {
    "kernelspec": {
      "display_name": "Python 3",
      "language": "python",
      "name": "python3"
    },
    "language_info": {
      "codemirror_mode": {
        "name": "ipython",
        "version": 3
      },
      "file_extension": ".py",
      "mimetype": "text/x-python",
      "name": "python",
      "nbconvert_exporter": "python",
      "pygments_lexer": "ipython3",
      "version": "3.7.1"
    },
    "colab": {
      "name": "EjerciciosE 5.ipynb",
      "provenance": [],
      "collapsed_sections": []
    }
  },
  "cells": [
    {
      "cell_type": "markdown",
      "metadata": {
        "id": "oyf1C0Ax6_iH"
      },
      "source": [
        "## Ejercicio 5\n",
        "\n",
        "La empresa de energía eléctrica EcoGener implementa un programa de becas para los estudiantes de las universidades públicas en Colombia tomando como criterios de selección: encontrarse matriculado en una universidad, ser menor de 22 años, que el valor de matrícula no exceda de $5.000.000 y pertenecer a los estratos 1, 2 o 3. El porcentaje de la beca se realiza tomando como referencia el estrato en el que está ubicada la vivienda del estudiante, tal como se muestra en la tabla. \n",
        "\n",
        "Realice el pseudocódigo que permita determinar el porcentaje de aspirantes mayores de 18 años admitidos al programa y el valor total destinado por la empresa.\n",
        "\n",
        "![image.png](data:image/png;base64,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)\n",
        " \n",
        " \n",
        "\n",
        "\n",
        "\n",
        "\n",
        "\n",
        "\n"
      ]
    },
    {
      "cell_type": "code",
      "metadata": {
        "id": "45P82qJKrgbh"
      },
      "source": [
        ""
      ],
      "execution_count": null,
      "outputs": []
    }
  ]
}