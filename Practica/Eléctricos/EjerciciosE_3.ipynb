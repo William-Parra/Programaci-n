{
  "nbformat": 4,
  "nbformat_minor": 0,
  "metadata": {
    "kernelspec": {
      "display_name": "Python 3",
      "language": "python",
      "name": "python3"
    },
    "language_info": {
      "codemirror_mode": {
        "name": "ipython",
        "version": 3
      },
      "file_extension": ".py",
      "mimetype": "text/x-python",
      "name": "python",
      "nbconvert_exporter": "python",
      "pygments_lexer": "ipython3",
      "version": "3.7.1"
    },
    "colab": {
      "name": "EjerciciosE 3.ipynb",
      "provenance": [],
      "collapsed_sections": []
    }
  },
  "cells": [
    {
      "cell_type": "markdown",
      "metadata": {
        "id": "oyf1C0Ax6_iH"
      },
      "source": [
        "## Ejercicio 3\n",
        "\n",
        "El Instituto de Ingenieros Eléctricos y Electrónicos (IEEE, por sus siglas en ingles Institute of Electrical and Electronics Engineers) y la empresa Green Energy Latin America lanzan el concurso Save Energy en el marco del Día Mundial de la Tierra como una estrategia para concientizar a las personas del impacto positivo que tiene el Uso Racional y Eficiente de la Energía Eléctrica sobre nuestro planeta.  \n",
        " \n",
        "Para el concurso, la empresa Green Energy Latin America diseña un circuito eléctrico compuesto por una fuente de alimentación Vs y cuatro resistencias R1, R2 y R3, R4 cuya potencia total entregada por la fuente de alimentación está dada por la expresión: P=Vs2/[R1+1/(1/R2+1/R3+1/R4)]. El comité evaluador define los siguientes criterios para el concurso, así:  \n",
        " \n",
        " \n",
        "\n",
        "*   El número de participantes debe ser mayor o igual a 5 y menor o igual a 100.\n",
        "*   El Voltaje de la fuente de alimentación Vs es de 10 V.\n",
        "*    Cada participante debe seleccionar los valores de las resistencias R1, R2, R3 y R4.\n",
        "*   Las resistencias R1, R2, R3 y R4 deben tener valores positivos diferentes de cero.\n",
        "\n",
        "\n",
        "*   Se premiarán en su respectivo orden a los participantes que obtengan las tres menores potencias entregadas por la fuente de alimentación Vs.  \n",
        " \n",
        "Realice el Pseudocódigo que represente el algoritmo para mostrar el valor de potencia de los participantes ganadores y las resistencias escogidas por dicho participantes.  \n",
        "\n",
        "\n",
        "\n",
        "\n",
        "\n",
        "\n"
      ]
    },
    {
      "cell_type": "code",
      "metadata": {
        "id": "45P82qJKrgbh"
      },
      "source": [
        ""
      ],
      "execution_count": null,
      "outputs": []
    }
  ]
}