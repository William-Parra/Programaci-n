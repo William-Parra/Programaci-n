{
  "nbformat": 4,
  "nbformat_minor": 0,
  "metadata": {
    "kernelspec": {
      "display_name": "Python 3",
      "language": "python",
      "name": "python3"
    },
    "language_info": {
      "codemirror_mode": {
        "name": "ipython",
        "version": 3
      },
      "file_extension": ".py",
      "mimetype": "text/x-python",
      "name": "python",
      "nbconvert_exporter": "python",
      "pygments_lexer": "ipython3",
      "version": "3.7.1"
    },
    "colab": {
      "name": "EjerciciosE 1.ipynb",
      "provenance": [],
      "collapsed_sections": []
    }
  },
  "cells": [
    {
      "cell_type": "markdown",
      "metadata": {
        "id": "oyf1C0Ax6_iH"
      },
      "source": [
        "## Ejercicio 1\n",
        "\n",
        "La multinacional Analog Devices desea implementar un algoritmo que le permita calcular la máxima potencia entregada por una fuente de alimentación Vs a un circuito eléctrico compuesto por dos resistencias R1, R2. La potencia entregada por la fuente de alimentación Vs al circuito está dada por la expresión P=Vs2(1/R1+1/R2). Dentro de los criterios de diseño del algoritmo se requiere que la fuente de alimentación Vs sea de 10 [V] y que las resistencias sean mayores que cero (en caso de un valor incorrecto mostrar el siguiente mensaje al usuario \n",
        "“resistencia invalida” y volverla a leer).  \n",
        " \n",
        "Después de leer todas resistencias validas, se solicita que el algoritmo muestre en pantalla: la máxima potencia entregada y sus resistencias R1 y R2; las potencias calculadas con sus correspondientes resistencias R1 y R2.\n",
        "\n"
      ]
    },
    {
      "cell_type": "code",
      "metadata": {
        "id": "45P82qJKrgbh"
      },
      "source": [
        ""
      ],
      "execution_count": null,
      "outputs": []
    }
  ]
}