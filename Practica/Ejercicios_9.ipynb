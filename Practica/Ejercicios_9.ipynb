{
  "nbformat": 4,
  "nbformat_minor": 0,
  "metadata": {
    "kernelspec": {
      "display_name": "Python 3",
      "language": "python",
      "name": "python3"
    },
    "language_info": {
      "codemirror_mode": {
        "name": "ipython",
        "version": 3
      },
      "file_extension": ".py",
      "mimetype": "text/x-python",
      "name": "python",
      "nbconvert_exporter": "python",
      "pygments_lexer": "ipython3",
      "version": "3.7.1"
    },
    "colab": {
      "name": "Ejercicios 9.ipynb",
      "provenance": [],
      "collapsed_sections": []
    }
  },
  "cells": [
    {
      "cell_type": "markdown",
      "metadata": {
        "id": "oyf1C0Ax6_iH"
      },
      "source": [
        "## Ejercicio 9\n",
        "\n",
        "Leer las edades de varios estudiantes (en caso de una cantidad menor que cero mostrar el siguiente mensaje al usuario “cantidad invalida” y volver a leer) que oscilan entre los 10 y 20 años. A medida que se lea cada edad, validarla (en caso de una edad incorrecta mostrar el siguiente mensaje al usuario “edad invalida” y volverla a leer) y almacenarla en un arreglo. Después de leer todas las edades válidas, mostrarlas en pantalla con la posición correspondiente. \n"
      ]
    },
    {
      "cell_type": "code",
      "metadata": {
        "id": "45P82qJKrgbh"
      },
      "source": [
        ""
      ],
      "execution_count": null,
      "outputs": []
    }
  ]
}