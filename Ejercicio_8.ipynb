{
  "nbformat": 4,
  "nbformat_minor": 0,
  "metadata": {
    "kernelspec": {
      "display_name": "Python 3",
      "language": "python",
      "name": "python3"
    },
    "language_info": {
      "codemirror_mode": {
        "name": "ipython",
        "version": 3
      },
      "file_extension": ".py",
      "mimetype": "text/x-python",
      "name": "python",
      "nbconvert_exporter": "python",
      "pygments_lexer": "ipython3",
      "version": "3.7.1"
    },
    "colab": {
      "name": "Ejercicio 8.ipynb",
      "provenance": [],
      "collapsed_sections": []
    }
  },
  "cells": [
    {
      "cell_type": "markdown",
      "metadata": {
        "id": "oyf1C0Ax6_iH"
      },
      "source": [
        "## Ejercicio 8\n",
        "\n",
        "Escribir un programa que pida al usuario una palabra y la muestre 10 veces por pantalla."
      ]
    },
    {
      "cell_type": "code",
      "metadata": {
        "id": "a6DBYuMImX9r",
        "colab": {
          "base_uri": "https://localhost:8080/"
        },
        "outputId": "71c14828-36e7-4ed1-835e-5875ca338e91"
      },
      "source": [
        "X = input(\"Introduce una palabra: \")\r\n",
        "for i in range(10):\r\n",
        "    print(X)"
      ],
      "execution_count": 10,
      "outputs": [
        {
          "output_type": "stream",
          "text": [
            "Introduce una palabra: Programacion\n",
            "Programacion\n",
            "Programacion\n",
            "Programacion\n",
            "Programacion\n",
            "Programacion\n",
            "Programacion\n",
            "Programacion\n",
            "Programacion\n",
            "Programacion\n",
            "Programacion\n"
          ],
          "name": "stdout"
        }
      ]
    }
  ]
}