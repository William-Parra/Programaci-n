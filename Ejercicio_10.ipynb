{
  "nbformat": 4,
  "nbformat_minor": 0,
  "metadata": {
    "kernelspec": {
      "display_name": "Python 3",
      "language": "python",
      "name": "python3"
    },
    "language_info": {
      "codemirror_mode": {
        "name": "ipython",
        "version": 3
      },
      "file_extension": ".py",
      "mimetype": "text/x-python",
      "name": "python",
      "nbconvert_exporter": "python",
      "pygments_lexer": "ipython3",
      "version": "3.7.1"
    },
    "colab": {
      "name": "Ejercicio 10.ipynb",
      "provenance": [],
      "collapsed_sections": []
    }
  },
  "cells": [
    {
      "cell_type": "markdown",
      "metadata": {
        "id": "oyf1C0Ax6_iH"
      },
      "source": [
        "## Ejercicio 10\n",
        "\n",
        "Escribir un programa que muestre por pantalla la tabla basicas de multipicar.\n",
        "\n"
      ]
    },
    {
      "cell_type": "code",
      "metadata": {
        "id": "a6DBYuMImX9r",
        "colab": {
          "base_uri": "https://localhost:8080/"
        },
        "outputId": "cc8fefce-b330-4f26-a0e1-3ce97e92dedf"
      },
      "source": [
        "I=0\r\n",
        "print(\"Ingrese el numero a multiplicar\")\r\n",
        "while I==0: \r\n",
        "    W =float(input())\r\n",
        "    if W>=1 and W<=10:\r\n",
        "        X1= W * 1\r\n",
        "        X2= W * 2\r\n",
        "        X3= W * 3\r\n",
        "        X4= W * 4\r\n",
        "        X5= W * 5\r\n",
        "        X6= W * 6\r\n",
        "        X7= W * 7\r\n",
        "        X8= W * 8\r\n",
        "        X9= W * 9\r\n",
        "        X10= W * 10\r\n",
        "        print(\"Tabla del \",W)\r\n",
        "        print(W, \"X 1 =\", X1)\r\n",
        "        print(W, \"X 2 =\", X2)\r\n",
        "        print(W, \"X 3 =\", X3)\r\n",
        "        print(W, \"X 4 =\", X4)\r\n",
        "        print(W, \"X 5 =\", X5)\r\n",
        "        print(W, \"X 6 =\", X6)\r\n",
        "        print(W, \"X 7 =\", X7)\r\n",
        "        print(W, \"X 8 =\", X8)\r\n",
        "        print(W, \"X 9 =\", X9)\r\n",
        "        print(W, \"X 10 =\", X10)\r\n",
        "        I=1\r\n",
        "    else:\r\n",
        "        print(\"Escriba una tabla de multiplicar básica\")\r\n",
        "        \r\n"
      ],
      "execution_count": 14,
      "outputs": [
        {
          "output_type": "stream",
          "text": [
            "Ingrese el numero a multiplicar\n",
            "6\n",
            "Tabla del  6.0\n",
            "6.0 X 1 = 6.0\n",
            "6.0 X 2 = 12.0\n",
            "6.0 X 3 = 18.0\n",
            "6.0 X 4 = 24.0\n",
            "6.0 X 5 = 30.0\n",
            "6.0 X 6 = 36.0\n",
            "6.0 X 7 = 42.0\n",
            "6.0 X 8 = 48.0\n",
            "6.0 X 9 = 54.0\n",
            "6.0 X 10 = 60.0\n"
          ],
          "name": "stdout"
        }
      ]
    },
    {
      "cell_type": "markdown",
      "metadata": {
        "id": "4i5GRK92gVuE"
      },
      "source": [
        "Otra forma de hacerla es la siguiente."
      ]
    },
    {
      "cell_type": "code",
      "metadata": {
        "colab": {
          "base_uri": "https://localhost:8080/"
        },
        "id": "kDj3fraqgcUp",
        "outputId": "9cdd673e-9b06-43b7-9b17-99dc24db1be1"
      },
      "source": [
        "for i in range(1, 11):\r\n",
        "    for j in range(1, 11):\r\n",
        "        print(i*j, end=\"\\t\")\r\n",
        "    print(\"\")"
      ],
      "execution_count": 13,
      "outputs": [
        {
          "output_type": "stream",
          "text": [
            "1\t2\t3\t4\t5\t6\t7\t8\t9\t10\t\n",
            "2\t4\t6\t8\t10\t12\t14\t16\t18\t20\t\n",
            "3\t6\t9\t12\t15\t18\t21\t24\t27\t30\t\n",
            "4\t8\t12\t16\t20\t24\t28\t32\t36\t40\t\n",
            "5\t10\t15\t20\t25\t30\t35\t40\t45\t50\t\n",
            "6\t12\t18\t24\t30\t36\t42\t48\t54\t60\t\n",
            "7\t14\t21\t28\t35\t42\t49\t56\t63\t70\t\n",
            "8\t16\t24\t32\t40\t48\t56\t64\t72\t80\t\n",
            "9\t18\t27\t36\t45\t54\t63\t72\t81\t90\t\n",
            "10\t20\t30\t40\t50\t60\t70\t80\t90\t100\t\n"
          ],
          "name": "stdout"
        }
      ]
    }
  ]
}