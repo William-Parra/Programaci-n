{
  "nbformat": 4,
  "nbformat_minor": 0,
  "metadata": {
    "kernelspec": {
      "display_name": "Python 3",
      "language": "python",
      "name": "python3"
    },
    "language_info": {
      "codemirror_mode": {
        "name": "ipython",
        "version": 3
      },
      "file_extension": ".py",
      "mimetype": "text/x-python",
      "name": "python",
      "nbconvert_exporter": "python",
      "pygments_lexer": "ipython3",
      "version": "3.7.1"
    },
    "colab": {
      "name": "Ejercicio 3.ipynb",
      "provenance": [],
      "collapsed_sections": []
    }
  },
  "cells": [
    {
      "cell_type": "markdown",
      "metadata": {
        "id": "oyf1C0Ax6_iH"
      },
      "source": [
        "## Ejercicio 3\n",
        "Escribir un programa que le pregunte el nombre al usuario en la consola y después lo muestre en pantalla con la cadena ¡Hola \"nombre\"!, donde \"nombre\" es el nombre que el usuario ingreso."
      ]
    },
    {
      "cell_type": "code",
      "metadata": {
        "id": "a6DBYuMImX9r",
        "colab": {
          "base_uri": "https://localhost:8080/"
        },
        "outputId": "b54a023c-49a0-4718-fb80-5e2984fbacab"
      },
      "source": [
        "N = input(\"Ingrese su nombre: \")\r\n",
        "print(\"¡Hola \", N, \"!\")"
      ],
      "execution_count": 4,
      "outputs": [
        {
          "output_type": "stream",
          "text": [
            "Ingrese su nombre: William\n",
            "¡Hola  William !\n"
          ],
          "name": "stdout"
        }
      ]
    }
  ]
}