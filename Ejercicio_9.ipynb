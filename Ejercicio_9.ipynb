{
  "nbformat": 4,
  "nbformat_minor": 0,
  "metadata": {
    "kernelspec": {
      "display_name": "Python 3",
      "language": "python",
      "name": "python3"
    },
    "language_info": {
      "codemirror_mode": {
        "name": "ipython",
        "version": 3
      },
      "file_extension": ".py",
      "mimetype": "text/x-python",
      "name": "python",
      "nbconvert_exporter": "python",
      "pygments_lexer": "ipython3",
      "version": "3.7.1"
    },
    "colab": {
      "name": "Ejercicio 9.ipynb",
      "provenance": [],
      "collapsed_sections": []
    }
  },
  "cells": [
    {
      "cell_type": "markdown",
      "metadata": {
        "id": "oyf1C0Ax6_iH"
      },
      "source": [
        "## Ejercicio 9\n",
        "\n",
        "Escribir un programa que pregunte al usuario su edad y muestre por pantalla todos los años que ha cumplido (desde 1 hasta su edad).\n",
        "\n"
      ]
    },
    {
      "cell_type": "code",
      "metadata": {
        "id": "a6DBYuMImX9r",
        "colab": {
          "base_uri": "https://localhost:8080/"
        },
        "outputId": "5d9fe909-9256-42e5-d539-83942d7de9ec"
      },
      "source": [
        "N = int(input(\"¿Cuántos años tienes? \"))\r\n",
        "for i in range(N):\r\n",
        "    print(\"Has cumplido \", str(i+1), \" años\")"
      ],
      "execution_count": 11,
      "outputs": [
        {
          "output_type": "stream",
          "text": [
            "¿Cuántos años tienes? 10\n",
            "Has cumplido  1  años\n",
            "Has cumplido  2  años\n",
            "Has cumplido  3  años\n",
            "Has cumplido  4  años\n",
            "Has cumplido  5  años\n",
            "Has cumplido  6  años\n",
            "Has cumplido  7  años\n",
            "Has cumplido  8  años\n",
            "Has cumplido  9  años\n",
            "Has cumplido  10  años\n"
          ],
          "name": "stdout"
        }
      ]
    }
  ]
}