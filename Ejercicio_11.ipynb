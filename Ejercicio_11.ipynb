{
  "nbformat": 4,
  "nbformat_minor": 0,
  "metadata": {
    "kernelspec": {
      "display_name": "Python 3",
      "language": "python",
      "name": "python3"
    },
    "language_info": {
      "codemirror_mode": {
        "name": "ipython",
        "version": 3
      },
      "file_extension": ".py",
      "mimetype": "text/x-python",
      "name": "python",
      "nbconvert_exporter": "python",
      "pygments_lexer": "ipython3",
      "version": "3.7.1"
    },
    "colab": {
      "name": "Ejercicio 11.ipynb",
      "provenance": [],
      "collapsed_sections": [],
      "toc_visible": true
    }
  },
  "cells": [
    {
      "cell_type": "markdown",
      "metadata": {
        "id": "oyf1C0Ax6_iH"
      },
      "source": [
        "## Ejercicio 11\n",
        "\n",
        "Leer números enteros positivos de teclado, hasta que el usuario ingrese el 0. Informar cuál fue el mayor número ingresado.\n"
      ]
    },
    {
      "cell_type": "code",
      "metadata": {
        "id": "a6DBYuMImX9r",
        "colab": {
          "base_uri": "https://localhost:8080/"
        },
        "outputId": "3f3b9044-403b-4b51-b139-1ea26cf9491a"
      },
      "source": [
        "mayor=-1\r\n",
        "n=int(input(\"Número positivo:\"))\r\n",
        "while n>0:\r\n",
        "   if n>mayor:\r\n",
        "       mayor=n\r\n",
        "   n=int(input(\"Número positivo:\"))\r\n",
        "print(\"Mayor número ingresado:\", mayor)\r\n",
        "        \r\n"
      ],
      "execution_count": 20,
      "outputs": [
        {
          "output_type": "stream",
          "text": [
            "Número positivo:2\n",
            "Número positivo:4\n",
            "Número positivo:6\n",
            "Número positivo:8\n",
            "Número positivo:10\n",
            "Número positivo:12\n",
            "Número positivo:14\n",
            "Número positivo:16\n",
            "Número positivo:18\n",
            "Número positivo:20\n",
            "Número positivo:0\n",
            "Mayor número ingresado: 20\n"
          ],
          "name": "stdout"
        }
      ]
    }
  ]
}